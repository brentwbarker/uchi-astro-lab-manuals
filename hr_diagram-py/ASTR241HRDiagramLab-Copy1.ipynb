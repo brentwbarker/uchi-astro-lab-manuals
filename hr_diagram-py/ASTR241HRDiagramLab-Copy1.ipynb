{
 "cells": [
  {
   "cell_type": "code",
   "execution_count": 2,
   "metadata": {},
   "outputs": [
    {
     "name": "stderr",
     "output_type": "stream",
     "text": [
      "/home/bbarker/anaconda3/lib/python3.6/site-packages/astroquery/sdss/__init__.py:29: UserWarning: Experimental: SDSS has not yet been refactored to have its API match the rest of astroquery (but it's nearly there).\n",
      "  warnings.warn(\"Experimental: SDSS has not yet been refactored to have its API \"\n"
     ]
    }
   ],
   "source": [
    "import numpy as np\n",
    "import matplotlib.pyplot as plt\n",
    "from astroquery.sdss import SDSS\n",
    "from astropy import coordinates as coords"
   ]
  },
  {
   "cell_type": "code",
   "execution_count": 2,
   "metadata": {},
   "outputs": [],
   "source": [
    "# variables to modify\n",
    "data_file = \"result.csv\" # data file from SDSS query\n",
    "x_quantity = 'gmr0' # quantity in file header to plot on x axis\n",
    "y_quantity = 'teffa' # quantity in file header to plot on y axis"
   ]
  },
  {
   "cell_type": "code",
   "execution_count": 3,
   "metadata": {},
   "outputs": [],
   "source": [
    "# load data\n",
    "data = np.genfromtxt(data_file,\n",
    "    names = True, delimiter = \",\")"
   ]
  },
  {
   "cell_type": "code",
   "execution_count": 4,
   "metadata": {},
   "outputs": [
    {
     "data": {
      "image/png": "[encoded data removed]",
      "text/plain": [
       "<Figure size 432x288 with 1 Axes>"
      ]
     },
     "metadata": {
      "needs_background": "light"
     },
     "output_type": "display_data"
    }
   ],
   "source": [
    "fig, ax = plt.subplots(1,1)\n",
    "ax.plot(data[x_quantity], data[y_quantity], '.')\n",
    "ax.set_xlabel(x_quantity)\n",
    "ax.set_ylabel(y_quantity)\n",
    "plt.show()"
   ]
  },
  {
   "cell_type": "code",
   "execution_count": 7,
   "metadata": {},
   "outputs": [
    {
     "name": "stdout",
     "output_type": "stream",
     "text": [
      "       ra              dec               objid        run  rerun camcol field\n",
      "---------------- ---------------- ------------------- ---- ----- ------ -----\n",
      "2.02344282606902 14.8398204074569 1237653651835781245 1904   301      3   163\n",
      "2.02344283665934 14.8398204142685 1237653651835781244 1904   301      3   163\n",
      "2.02344596594583 14.8398237228858 1237652943176138867 1739   301      3   315\n",
      "2.02344596303101 14.8398237521302 1237652943176138868 1739   301      3   315\n",
      "2.02344772020763 14.8398201104521 1237653651835781243 1904   301      3   163\n",
      "2.02345063181093 14.8398111819866 1237653651835846665 1904   301      3   164\n",
      "2.02346211630646 14.8397938293404 1237649816422187130 1011   301      3    44\n",
      "2.02345926852718 14.8398028899795 1237649816422187131 1011   301      3    44\n",
      " 2.0234592707215 14.8398028913253 1237649816422187132 1011   301      3    44\n",
      "2.02347655279129 14.8398025949721 1237649953859240024 1043   301      3    15\n",
      "2.02347671341425 14.8398024440978 1237649953859240025 1043   301      3    15\n",
      "2.02345533943799 14.8398303086215 1237652943176138866 1739   301      3   315\n",
      "2.02345538005579 14.8398109337651 1237653651835846663 1904   301      3   164\n",
      "2.02345064588161 14.8398111910503 1237653651835846664 1904   301      3   164\n",
      "2.02348463208762 14.8398053271835 1237649953859174621 1043   301      3    14\n",
      "2.02348124480284 14.8398094998411 1237649953859174622 1043   301      3    14\n",
      "2.02348135613022 14.8398093643779 1237649953859174623 1043   301      3    14\n",
      "2.02347964259934 14.8397984343612 1237649953859240023 1043   301      3    15\n"
     ]
    }
   ],
   "source": [
    "pos = coords.SkyCoord('0h8m05.63s +14d50m23.3s', frame='icrs')\n",
    "xid = SDSS.query_region(pos)\n",
    "print(xid)"
   ]
  },
  {
   "cell_type": "code",
   "execution_count": null,
   "metadata": {},
   "outputs": [],
   "source": []
  }
 ],
 "metadata": {
  "kernelspec": {
   "display_name": "Python 3",
   "language": "python",
   "name": "python3"
  },
  "language_info": {
   "codemirror_mode": {
    "name": "ipython",
    "version": 3
   },
   "file_extension": ".py",
   "mimetype": "text/x-python",
   "name": "python",
   "nbconvert_exporter": "python",
   "pygments_lexer": "ipython3",
   "version": "3.6.5"
  }
 },
 "nbformat": 4,
 "nbformat_minor": 2
}
